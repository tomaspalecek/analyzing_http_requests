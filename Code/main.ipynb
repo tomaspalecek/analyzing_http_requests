{
 "cells": [
  {
   "attachments": {},
   "cell_type": "markdown",
   "metadata": {},
   "source": [
    "I had found two promising ways to adress the anomaly detection problem\n",
    "\n",
    "1/ The first way was based on the paper Althubiti, Sara; Yuan, Xiaohong; and Esterline, Albert, \"Analyzing HTTP requests for web intrusion detection\" (2017). In this paper the authors examined the features used by other authorss and extracted the 5 most useful ones using his custom method. The paper claims that they had managed to obtain 99.94% Detection rate. THe features are length of the request, lenght of the arguments, number of arguments, length of the path, number of special chars in the path. Unfortunately the exact specifics of the features are were not provided. I had tried to deduct the specifics from the names, but for example with the special chars in the path I am not sure which exact chars they had in mind. In my implementation I had only managed to get 90% Detection rate. This could be caused by a bug in the implementation or incorrect understanding of the features.\n",
    "\n",
    "2/ The second algorithm was inspired by https://github.com/Monkey-D-Groot/Machine-Learning-on-CSIC-2010 this algorithm uses the Term Frequency Inverse Document Frequency algorithm I had made slight modifications to the algorithm.\n",
    "\n",
    "THis algorithm was just modified and I had managed to get the 99% Detection rate.\n",
    "\n",
    "Comparison of algorithms:\n",
    "1/ Algorithm\n",
    "    Pros:\n",
    "        Faster execution(The 2 algorithm needs to calculate tf idf\n",
    "        Better interpretability(learning only on 5 features each feature has clear meaning. On the other hand)\n",
    "        Less prone to overfitting(The 2 algorithm depends more on given dataset, the 5 features should be     \n",
    "        usable across all http anomalies, also the 2 algorithm now learns on Spanish dataset\n",
    "    Cons:\n",
    "        algorithm 2 have more information to use from decision(Potential better performance after tuning)\n",
    "\n",
    "It could be interesting to put the the algorithms together and use both of them for detection.\n",
    "\n",
    "I had decided to implement algorithm 1. Because I think his pros outweights the 2 algorithm\n",
    "\n",
    "I had not tuned the ML algorithms(parameter search ..)\n",
    "\n",
    "The implementation was done during 1 day.\n",
    "   \n",
    "\n",
    "\n",
    "\n"
   ]
  },
  {
   "cell_type": "code",
   "execution_count": 11,
   "metadata": {},
   "outputs": [],
   "source": [
    "import re\n",
    "import matplotlib.pyplot as plt\n",
    "import numpy as np\n",
    "\n",
    "from sklearn.feature_extraction.text import TfidfVectorizer\n",
    "from sklearn.model_selection import train_test_split\n",
    "from sklearn.linear_model import LogisticRegression\n",
    "from sklearn import tree, preprocessing\n",
    "from sklearn.ensemble import RandomForestClassifier\n",
    "from sklearn.svm import LinearSVC\n",
    "from sklearn.metrics import confusion_matrix"
   ]
  },
  {
   "cell_type": "markdown",
   "metadata": {},
   "source": [
    "The following cell defines functions for preprocessing and feature extraction"
   ]
  },
  {
   "cell_type": "code",
   "execution_count": 23,
   "metadata": {},
   "outputs": [],
   "source": [
    "def file_to_requests(file_in):\n",
    "    '''\n",
    "    Returns a list of requests from raw HTTP requests file\n",
    "    :param file_in: input file location\n",
    "    :return: list of requests\n",
    "    '''\n",
    "    requests = []\n",
    "    get_offset = 11\n",
    "    pp_offset = 15  # Put and Post offset\n",
    "\n",
    "    with open(file_in, 'r') as f:\n",
    "        lines = f.readlines()\n",
    "        pos = 0\n",
    "        while pos < len(lines):\n",
    "            offset = get_offset if get_request_type(lines[pos]) == \"GET\" else pp_offset\n",
    "            next_request_offset = 2 if get_request_type(lines[pos]) == \"GET\" else 1\n",
    "\n",
    "            requests.append(lines[pos:pos + offset])\n",
    "            pos += offset + next_request_offset\n",
    "\n",
    "    return requests\n",
    "\n",
    "\n",
    "def get_request_type(request):\n",
    "    '''\n",
    "    Return request type\n",
    "    :param request:\n",
    "    :return:\n",
    "    '''\n",
    "    if request[:3] == \"GET\":\n",
    "        return \"GET\"\n",
    "    elif request[:4] == \"POST\":\n",
    "        return \"POST\"\n",
    "    elif request[:3] == \"PUT\":\n",
    "        return \"PUT\"\n",
    "    else:\n",
    "        print(\"Wrong Input\")\n",
    "        return -1\n",
    "\n",
    "\n",
    "def parse_argument(request):\n",
    "    '''\n",
    "    Parses HTTP arguments from the request\n",
    "    :param request:\n",
    "    :return:\n",
    "    '''\n",
    "\n",
    "    # Get requests have arguments in different line than POST and PUT\n",
    "    req_pos = 0\n",
    "    argument_pos = 14\n",
    "\n",
    "    request_type = get_request_type(request[req_pos])\n",
    "    argument = \"\"\n",
    "    if request_type == \"GET\":\n",
    "        argument_start = request[req_pos].find('?')\n",
    "        if argument_start != -1:\n",
    "            argument = request[req_pos][argument_start:]\n",
    "    else:\n",
    "        argument = request[argument_pos]\n",
    "\n",
    "    return argument\n",
    "\n",
    "\n",
    "def argument_to_features(request):\n",
    "    argument = parse_argument(request)\n",
    "    len_of_arguments = len(argument)\n",
    "    number_of_arguments = len(argument.split(\"&\")) - 1\n",
    "\n",
    "    return len_of_arguments, number_of_arguments\n",
    "\n",
    "\n",
    "def parse_url(request):\n",
    "    server_prefix_len = len(\"http://localhost:8080\")\n",
    "    url = request[0].split(\"?\")[0]  # Remove variables from path\n",
    "    url = url.split(\" \")[1]  # Remove the GET, PUT, POST information\n",
    "    url = url[server_prefix_len:]  # Remove the prefix which is same in everyHTTP\n",
    "    return url\n",
    "\n",
    "\n",
    "def parse_path(request):\n",
    "    path = parse_url(request) + parse_argument(request)\n",
    "    return path\n",
    "\n",
    "\n",
    "def path_to_features(request):\n",
    "    path = parse_path(request)\n",
    "\n",
    "    path_len = len(path)\n",
    "    path_spec_chars = path_len - len(re.findall('[a-z]', path))\n",
    "    # path_spec_chars = len(re.findall('[\\W]', request[0])) - len(re.findall('/',request[0]))\n",
    "    return path_len, path_spec_chars\n",
    "\n",
    "\n",
    "def request_type_to_features(request):\n",
    "    type = get_request_type(request[0])\n",
    "\n",
    "    if type == \"GET\":\n",
    "        return 0\n",
    "    elif type == \"PUT\":\n",
    "        return 1\n",
    "    else:\n",
    "        return 2\n",
    "\n",
    "\n",
    "def requests_to_features(request):\n",
    "    '''\n",
    "    Parsing request to features based on thise paper\n",
    "    Althubiti, Sara; Yuan, Xiaohong; and Esterline, Albert, \"Analyzing HTTP requests for web intrusion detection\" (2017\n",
    "\n",
    "    I am not sure about the special characters featuere\n",
    "    :param request:\n",
    "    :return:\n",
    "    '''\n",
    "\n",
    "    parsed_request = []\n",
    "\n",
    "    for request in request:\n",
    "        request_len = sum([len(sub) for sub in request])\n",
    "        arguments_len, arguments_num = argument_to_features(request)\n",
    "        path_len, path_spec_char = path_to_features(request)\n",
    "        request_type = request_type_to_features(request)\n",
    "\n",
    "        parsed_request.append([request_len, arguments_len, arguments_num, path_len, path_spec_char, request_type])\n",
    "\n",
    "    return parsed_request\n",
    "\n",
    "\n",
    "def file_to_features(file_in):\n",
    "    requests = file_to_requests(file_in)\n",
    "    request_parsed = requests_to_features(requests)\n",
    "    return request_parsed\n",
    "\n",
    "def prepare_data(normal_file, anomaly_file):\n",
    "    normal_parsed = file_to_features(normal_file)\n",
    "    anomaly_parsed = file_to_features(anomaly_file)\n",
    "    X = normal_parsed + anomaly_parsed\n",
    "    y = [0] * len(normal_parsed) + [1] * len(anomaly_parsed)\n",
    "\n",
    "    scaler = preprocessing.StandardScaler().fit(X)\n",
    "    X = scaler.transform(X)\n",
    "    return X, y\n",
    "\n",
    "\n",
    "def prepare_data_tfidf(normal_file, anomaly_file, trigram_range):\n",
    "    '''\n",
    "    Quickly written function, primary objective was to implement the algorithm from\n",
    "    Althubiti, Sara; Yuan, Xiaohong; and Esterline, Albert, \"Analyzing HTTP requests for web intrusion detection\" (2017\n",
    "    However I hadn't manage to get the performance they had achieved, thus\n",
    "    :param normal_file:\n",
    "    :param anomaly_file:\n",
    "    :return:\n",
    "    '''\n",
    "    normal_requests = file_to_requests(normal_file)\n",
    "    anomaly_requests = file_to_requests(anomaly_file)\n",
    "    normal_parsed = [parse_path(request) for request in normal_requests]\n",
    "    anomaly_parsed = [parse_path(request) for request in anomaly_requests]\n",
    "    X = normal_parsed + anomaly_parsed\n",
    "    y = [0] * len(normal_parsed) + [1] * len(anomaly_parsed)\n",
    "\n",
    "    vectorizer = TfidfVectorizer(min_df=0.0, analyzer=\"char_wb\",sublinear_tf=True, max_features=100000, ngram_range=trigram_range,\n",
    "                                 strip_accents='unicode')\n",
    "    X = vectorizer.fit_transform(X)\n",
    "\n",
    "    return X, y\n"
   ]
  },
  {
   "cell_type": "markdown",
   "metadata": {},
   "source": [
    "The following cell defines functions for training and testing."
   ]
  },
  {
   "cell_type": "code",
   "execution_count": 29,
   "metadata": {},
   "outputs": [],
   "source": [
    "def train_and_test_ml(X_train, X_test, y_train, alg):\n",
    "    alg.fit(X_train, y_train)\n",
    "    y_pred = alg.predict(X_test)\n",
    "    return y_pred\n",
    "\n",
    "def test_algorithms(X_train, X_test, y_train, y_test):\n",
    "    lgs = LogisticRegression(solver=\"lbfgs\", max_iter=1000, C=10)\n",
    "    dtc = tree.DecisionTreeClassifier()\n",
    "    linear_svm = LinearSVC(C=1, max_iter=5000)\n",
    "    rfc = RandomForestClassifier(n_estimators=50)\n",
    "\n",
    "    metrics = (\"{:>10}\" * 4).format(\"Detection Rate\", \"Precision\", \"Recall\", \"F-Measure\")\n",
    "    print(\"{:<30}\".format(\"\") + metrics)\n",
    "\n",
    "    algs = [lgs,dtc,linear_svm,rfc]\n",
    "    algs_names = [\"Logistic Regression\",\"Decision Tree\",\"Linear SVM\",\"Random Forest\"]\n",
    "\n",
    "    for alg,name in zip(algs,algs_names):\n",
    "        y_pred = train_and_test_ml(X_train,X_test,y_train,alg)\n",
    "        print_result(y_test,y_pred,name)\n",
    "\n",
    "def print_result(y_test,y_pred, clf_name):\n",
    "    matrix = confusion_matrix(y_test, y_pred)\n",
    "    TP, FP = matrix[0]\n",
    "    FN, TN = matrix[1]\n",
    "\n",
    "    DR = (TP + TN) / float(TP + TN + FP + FN)\n",
    "    PREC = TP / float(TP + FP)\n",
    "    REC = TP / float(TP + FN)\n",
    "    F1 = 2 * (PREC * REC) / (PREC + REC)\n",
    "\n",
    "    print((\"{:<30}\" + (\"{:>10.2f}\") * 4).format(clf_name, DR * 100, PREC * 100, REC * 100, F1 * 100))\n",
    "    \n",
    "def evaluate_performance(X, y):\n",
    "    print(\"Dataset distribution: Train {}% | Test {}%\".format((1 - test_size) * 100, test_size * 100))\n",
    "    X_train, X_test, y_train, y_test = train_test_split(X, y, test_size=test_size, random_state=1)\n",
    "    test_algorithms(X_train, X_test, y_train, y_test)\n"
   ]
  },
  {
   "cell_type": "code",
   "execution_count": 15,
   "metadata": {},
   "outputs": [],
   "source": [
    "data_folder = '../Dataset/'\n",
    "normal_file_raw = data_folder + 'normalTrafficTraining.txt'\n",
    "anomaly_file_raw = data_folder + 'anomalousTrafficTest.txt'\n",
    "\n",
    "test_size = 0.4\n"
   ]
  },
  {
   "cell_type": "markdown",
   "metadata": {},
   "source": [
    "Althubiti, Sara; Yuan, Xiaohong; and Esterline, Albert, \"Analyzing HTTP requests for web intrusion detection\" (2017) - Solution"
   ]
  },
  {
   "cell_type": "code",
   "execution_count": 30,
   "metadata": {},
   "outputs": [
    {
     "name": "stdout",
     "output_type": "stream",
     "text": [
      "Dataset distribution: Train 60.0% | Test 40.0%\n",
      "                              Detection Rate Precision    Recall F-Measure\n",
      "Logistic Regression                73.62     88.27     72.86     79.83\n",
      "Decision Tree                      89.68     92.47     90.31     91.38\n",
      "Linear SVM                         74.27     91.07     72.47     80.71\n",
      "Random Forest                      89.94     91.42     91.55     91.49\n"
     ]
    }
   ],
   "source": [
    "X, y = prepare_data(normal_file_raw, anomaly_file_raw)\n",
    "evaluate_performance(X, y)"
   ]
  },
  {
   "cell_type": "markdown",
   "metadata": {},
   "source": [
    "version of Term Frequency Inverse Document Frequency algorithm based on (https://github.com/Monkey-D-Groot/Machine-Learning-on-CSIC-2010)"
   ]
  },
  {
   "cell_type": "code",
   "execution_count": 27,
   "metadata": {},
   "outputs": [
    {
     "name": "stdout",
     "output_type": "stream",
     "text": [
      "Dataset distribution: Train 60.0% | Test 40.0%\n",
      "                              Detection Rate Precision    Recall F-Measure\n",
      "Logistic Regression                99.04     99.72     98.68     99.19\n",
      "Decision Tree                      97.54     97.96     97.89     97.92\n",
      "Linear SVM                         99.04     99.61     98.78     99.19\n",
      "Random Forest                      97.06     98.03     97.02     97.52\n"
     ]
    }
   ],
   "source": [
    "X, y = prepare_data_tfidf(normal_file_raw, anomaly_file_raw, (3, 5))\n",
    "\n",
    "evaluate_performance(X, y)"
   ]
  },
  {
   "cell_type": "markdown",
   "metadata": {},
   "source": [
    "Functions for visualization. I only managed to implement the histogram visualization. The main purpose of this function is to show us the distribution of the feature between normal and anomalous requests"
   ]
  },
  {
   "cell_type": "code",
   "execution_count": 31,
   "metadata": {},
   "outputs": [],
   "source": [
    "def histogram_features(X, y, feature_num):\n",
    "    '''\n",
    "    Mathod for plotting the histogram of features. Used to manually analyze the viability of using given feature\n",
    "    :param X:\n",
    "    :param y:\n",
    "    :param feature_num:\n",
    "    :return:\n",
    "    '''\n",
    "    feature_names = {0: \"Length of the request\", 5: \"Request type\"}\n",
    "\n",
    "    X_normal = [x[feature_num] for x, y in zip(X, y) if y == 0]\n",
    "    X_anomaly = [x[feature_num] for x, y in zip(X, y) if y == 1]\n",
    "\n",
    "    bound_lower = min(np.min(X_normal), np.min(X_anomaly))\n",
    "    bound_upper = max(np.min(X_normal), np.max(X_anomaly))\n",
    "\n",
    "    bins = np.linspace(bound_lower, bound_upper, 20)\n",
    "\n",
    "    \n",
    "\n",
    "    plt.hist([X_normal, X_anomaly], bins)\n",
    "    plt.legend([\"Normal\", \"Anomaly\"])\n",
    "\n",
    "    plt.title(\"Histogram of feature: \" + feature_names[feature_num])\n",
    "    plt.show()\n"
   ]
  },
  {
   "cell_type": "markdown",
   "metadata": {},
   "source": [
    "Length of normal and annomal HTTP address scaled using standard scaler"
   ]
  },
  {
   "cell_type": "code",
   "execution_count": 32,
   "metadata": {},
   "outputs": [
    {
     "data": {
      "image/png": "[encoded data removed]",
      "text/plain": [
       "<Figure size 432x288 with 1 Axes>"
      ]
     },
     "metadata": {
      "needs_background": "light"
     },
     "output_type": "display_data"
    }
   ],
   "source": [
    "histogram_features(X,y,0)"
   ]
  },
  {
   "cell_type": "markdown",
   "metadata": {},
   "source": [
    "Distribution of PUT, GET, POST requests, we can see that PUT requests are only used in anomalous HTTP request(800 occurences)"
   ]
  },
  {
   "cell_type": "code",
   "execution_count": 33,
   "metadata": {},
   "outputs": [
    {
     "data": {
      "image/png": "[encoded data removed]",
      "text/plain": [
       "<Figure size 432x288 with 1 Axes>"
      ]
     },
     "metadata": {
      "needs_background": "light"
     },
     "output_type": "display_data"
    }
   ],
   "source": [
    "histogram_features(X,y,5)"
   ]
  }
 ],
 "metadata": {
  "kernelspec": {
   "display_name": "Python 3",
   "language": "python",
   "name": "python3"
  },
  "language_info": {
   "codemirror_mode": {
    "name": "ipython",
    "version": 3
   },
   "file_extension": ".py",
   "mimetype": "text/x-python",
   "name": "python",
   "nbconvert_exporter": "python",
   "pygments_lexer": "ipython3",
   "version": "3.6.6"
  }
 },
 "nbformat": 4,
 "nbformat_minor": 2
}
